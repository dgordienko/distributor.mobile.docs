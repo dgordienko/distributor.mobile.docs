{
 "cells": [
  {
   "attachments": {},
   "cell_type": "markdown",
   "metadata": {},
   "source": [
    "# Настройки телефонов для пользователей Distributor.Mobile\n",
    "\n",
    "<video controls src=\"video_2022-12-22_14-05-55.mp4\" />"
   ]
  }
 ],
 "metadata": {
  "language_info": {
   "name": "python"
  },
  "orig_nbformat": 4
 },
 "nbformat": 4,
 "nbformat_minor": 2
}
